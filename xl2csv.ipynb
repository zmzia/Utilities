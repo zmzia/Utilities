{
 "cells": [
  {
   "cell_type": "code",
   "execution_count": 18,
   "metadata": {},
   "outputs": [
    {
     "name": "stdout",
     "output_type": "stream",
     "text": [
      "This utility is to convert excel(.xlsx) file into dataset readable(.csv) file\n",
      "Enter the Excel filename to convert: df\n",
      "Enter the number of lines to avoid from the start: 4\n",
      "Enter the number of lines to avoid from the end: 4\n",
      "Enter the csv filename to save: sd\n",
      "\n",
      "An error has occurred !\n",
      "[Errno 2] No such file or directory: 'df'\n"
     ]
    }
   ],
   "source": [
    "try:\n",
    "    import pandas as pd\n",
    "    print(\"This utility is to convert excel(.xlsx) file into dataset readable(.csv) file\")\n",
    "    input_filename = input(\"Enter the Excel filename to convert: \")\n",
    "    head_skip_rows = int(input(\"Enter the number of lines to avoid from the start: \"))\n",
    "    foot_skip_rows = int(input(\"Enter the number of lines to avoid from the end: \"))\n",
    "    output_filename = input(\"Enter the csv filename to save: \")\n",
    "\n",
    "    old_df = pd.read_excel(input_filename)\n",
    "    df = pd.read_excel(input_filename, header=0, skiprows=head_skip_rows, skipfooter=foot_skip_rows)\n",
    "    df.dropna(axis=1, how='all',inplace=True)\n",
    "    df.to_csv(output_filename, index=False)\n",
    "\n",
    "    print(\"\\nConversion completed\")\n",
    "    print(\"Details\")\n",
    "    print('-'*7)\n",
    "    print(\"Given FileName          : \",input_filename)\n",
    "    print(\"Given (rows,columns)    : \",old_df.shape)\n",
    "    print(\"\\nResult\")\n",
    "    print('-'*6)\n",
    "    print(\"Converted FileName      : \",output_filename)\n",
    "    print(\"Converted (rows,columns): \",df.shape)\n",
    "    del old_df, df\n",
    "except Exception as error:\n",
    "    print(\"\\nAn error has occurred !\")\n",
    "    print(str(error))\n",
    "    "
   ]
  },
  {
   "cell_type": "code",
   "execution_count": null,
   "metadata": {},
   "outputs": [],
   "source": []
  }
 ],
 "metadata": {
  "kernelspec": {
   "display_name": "Python 3",
   "language": "python",
   "name": "python3"
  },
  "language_info": {
   "codemirror_mode": {
    "name": "ipython",
    "version": 3
   },
   "file_extension": ".py",
   "mimetype": "text/x-python",
   "name": "python",
   "nbconvert_exporter": "python",
   "pygments_lexer": "ipython3",
   "version": "3.8.5"
  }
 },
 "nbformat": 4,
 "nbformat_minor": 4
}
